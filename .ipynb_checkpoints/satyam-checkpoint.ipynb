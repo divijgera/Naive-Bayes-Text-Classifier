{
 "cells": [
  {
   "cell_type": "code",
   "execution_count": 1,
   "metadata": {},
   "outputs": [],
   "source": [
    "import numpy as np\n",
    "import pandas as pd\n",
    "import matplotlib.pyplot as plt\n",
    "from sklearn import datasets\n",
    "import nltk\n",
    "import string\n",
    "import re\n",
    "from sklearn.naive_bayes import MultinomialNB\n",
    "from nltk.corpus import stopwords\n",
    "from sklearn.metrics import classification_report, confusion_matrix"
   ]
  },
  {
   "cell_type": "code",
   "execution_count": 2,
   "metadata": {},
   "outputs": [],
   "source": [
    "from sklearn import datasets\n",
    "data1=datasets.load_files(r\"20_newsgroups\")\n",
    "x=data1.data\n",
    "Y_train=data1.target"
   ]
  },
  {
   "cell_type": "code",
   "execution_count": 3,
   "metadata": {},
   "outputs": [
    {
     "name": "stdout",
     "output_type": "stream",
     "text": [
      "<class 'list'>\n"
     ]
    }
   ],
   "source": [
    "print(type(x))"
   ]
  },
  {
   "cell_type": "code",
   "execution_count": 4,
   "metadata": {},
   "outputs": [
    {
     "name": "stdout",
     "output_type": "stream",
     "text": [
      "['i', 'me', 'my', 'myself', 'we', 'our', 'ours', 'ourselves', 'you', \"you're\", \"you've\", \"you'll\", \"you'd\", 'your', 'yours', 'yourself', 'yourselves', 'he', 'him', 'his', 'himself', 'she', \"she's\", 'her', 'hers', 'herself', 'it', \"it's\", 'its', 'itself', 'they', 'them', 'their', 'theirs', 'themselves', 'what', 'which', 'who', 'whom', 'this', 'that', \"that'll\", 'these', 'those', 'am', 'is', 'are', 'was', 'were', 'be', 'been', 'being', 'have', 'has', 'had', 'having', 'do', 'does', 'did', 'doing', 'a', 'an', 'the', 'and', 'but', 'if', 'or', 'because', 'as', 'until', 'while', 'of', 'at', 'by', 'for', 'with', 'about', 'against', 'between', 'into', 'through', 'during', 'before', 'after', 'above', 'below', 'to', 'from', 'up', 'down', 'in', 'out', 'on', 'off', 'over', 'under', 'again', 'further', 'then', 'once', 'here', 'there', 'when', 'where', 'why', 'how', 'all', 'any', 'both', 'each', 'few', 'more', 'most', 'other', 'some', 'such', 'no', 'nor', 'not', 'only', 'own', 'same', 'so', 'than', 'too', 'very', 's', 't', 'can', 'will', 'just', 'don', \"don't\", 'should', \"should've\", 'now', 'd', 'll', 'm', 'o', 're', 've', 'y', 'ain', 'aren', \"aren't\", 'couldn', \"couldn't\", 'didn', \"didn't\", 'doesn', \"doesn't\", 'hadn', \"hadn't\", 'hasn', \"hasn't\", 'haven', \"haven't\", 'isn', \"isn't\", 'ma', 'mightn', \"mightn't\", 'mustn', \"mustn't\", 'needn', \"needn't\", 'shan', \"shan't\", 'shouldn', \"shouldn't\", 'wasn', \"wasn't\", 'weren', \"weren't\", 'won', \"won't\", 'wouldn', \"wouldn't\"]\n"
     ]
    },
    {
     "name": "stderr",
     "output_type": "stream",
     "text": [
      "[nltk_data] Downloading package stopwords to /Users/divij/nltk_data...\n",
      "[nltk_data]   Package stopwords is already up-to-date!\n"
     ]
    }
   ],
   "source": [
    "nltk.download(\"stopwords\")\n",
    "stop_words=(stopwords.words(\"english\"))\n",
    "print(stop_words)"
   ]
  },
  {
   "cell_type": "code",
   "execution_count": 5,
   "metadata": {},
   "outputs": [
    {
     "data": {
      "text/plain": [
       "19997"
      ]
     },
     "execution_count": 5,
     "metadata": {},
     "output_type": "execute_result"
    }
   ],
   "source": [
    "## Data Cleaning\n",
    "X=[]\n",
    "\n",
    "for i in range(len(x)):\n",
    "    # to remove all the special character\n",
    "    document = re.sub(r'\\W', ' ', str(x[i]))\n",
    "    \n",
    "    # to convert multiple spaces into single spaces\n",
    "    document = re.sub(r'\\s+', ' ', document, flags=re.I)\n",
    "    \n",
    "    # removed prefixed b\n",
    "    document = re.sub(r'^b\\s+', '', document)\n",
    "    \n",
    "    # remove integers\n",
    "    document = re.sub(r'\\d+', '', document)\n",
    "    \n",
    "    # convert all words into lowerletter\n",
    "    document = document.lower()\n",
    "    \n",
    "    X.append(document)\n",
    "\n",
    "len(X)"
   ]
  },
  {
   "cell_type": "code",
   "execution_count": null,
   "metadata": {},
   "outputs": [],
   "source": [
    "dictionary = {}\n",
    "for i in X:\n",
    "    for j in i.split():\n",
    "        if j not in stop_words :\n",
    "            dictionary[j] = dictionary.get(j,0)+1\n",
    "    \n",
    "len(dictionary)"
   ]
  },
  {
   "cell_type": "code",
   "execution_count": null,
   "metadata": {
    "scrolled": false
   },
   "outputs": [],
   "source": [
    "maxf = max(dictionary.values())+1\n",
    "freqCounts = [0 for i in range(maxf)]\n",
    "x_array = [i for i in range(maxf)]\n",
    "for i in dictionary:\n",
    "    freqCounts[dictionary[i]] += 1\n",
    "plt.plot(freqCounts,x_array)\n",
    "plt.xlabel(\"num of word\")\n",
    "plt.ylabel(\"frequency\")\n",
    "plt.axis([0,10000,1,150])\n",
    "plt.grid()\n",
    "plt.show()"
   ]
  },
  {
   "cell_type": "code",
   "execution_count": null,
   "metadata": {},
   "outputs": [],
   "source": [
    "CutoffPoint = 120\n",
    "vocab = {}\n",
    "for key in dictionary:\n",
    "    if(dictionary[key] >= CutoffPoint):\n",
    "        vocab[key] = dictionary[key]\n",
    "indexes = list(vocab.keys())\n",
    "\n",
    "print(len(vocab))\n"
   ]
  },
  {
   "cell_type": "code",
   "execution_count": null,
   "metadata": {},
   "outputs": [],
   "source": [
    "#Converting to a 2D numpy array\n",
    "DataPoints = len(X)\n",
    "num_features = len(vocab)\n",
    "train_data = np.zeros((DataPoints, num_features))\n",
    "i = 0\n",
    "for doc in X:\n",
    "    for word in doc.split():\n",
    "        if word in vocab.keys():\n",
    "            train_data[i][indexes.index(word)] += 1\n",
    "    i += 1\n",
    "train_data"
   ]
  },
  {
   "cell_type": "code",
   "execution_count": null,
   "metadata": {
    "scrolled": true
   },
   "outputs": [],
   "source": [
    "def fit(X_train , Y_train):\n",
    "    trained_matrix = {}\n",
    "    trained_matrix[\"total_data_len\"] = len(X_train)\n",
    "    \n",
    "    all_classes = set(Y_train)\n",
    "    for c_class in all_classes:\n",
    "        trained_matrix[c_class] = {}\n",
    "        y_temp = Y_train[Y_train == c_class]\n",
    "        x_temp = X_train[Y_train == c_class]\n",
    "        trained_matrix[c_class][\"total_rows_in_class\"] = len(y_temp)\n",
    "        trained_matrix[c_class][\"total_words_in_class\"] = 0\n",
    "        for j in range(num_features):\n",
    "            trained_matrix[c_class][j] = np.sum(x_temp[:, j])\n",
    "            trained_matrix[c_class][\"total_words_in_class\"] += np.sum(x_temp[:, j])\n",
    "        \n",
    "    return trained_matrix\n",
    "    \n",
    "def get_prob_for_class(x_input, trained_data, c_class):\n",
    "    ans = np.log(trained_data[c_class][\"total_rows_in_class\"]) - np.log(trained_data[\"total_data_len\"])\n",
    "    for j in range(len(x_input)):\n",
    "        numerator = trained_data[c_class][j]+1   # +1 for laplace correction\n",
    "        denominator = trained_data[c_class][\"total_words_in_class\"]+len(x_input)\n",
    "        ans += x_input[j]*(np.log(numerator) - np.log(denominator))\n",
    "    return ans\n",
    "            \n",
    "            \n",
    "    \n",
    "def predictSingleInput(trained_data, x_input):\n",
    "    \n",
    "    best_class = 0\n",
    "    best_p = -10\n",
    "    first = True\n",
    "    for c_class in trained_data.keys():\n",
    "        if(c_class == \"total_data_len\"):\n",
    "            continue\n",
    "        p = get_prob_for_class(x_input, trained_data, c_class)\n",
    "        if(first or p>best_p):\n",
    "            best_p = p\n",
    "            best_class = c_class\n",
    "            first = False\n",
    "    return best_class\n",
    "        \n",
    "def predict(x_data,trained_data):\n",
    "    y_predict = []\n",
    "    for test in x_data:\n",
    "        y_predict.append(predictSingleInput(trained_data, test))\n",
    "    \n",
    "    return y_predict\n",
    "\n",
    "def score(y_1, y_2):\n",
    "    ans = 0\n",
    "    for i in range(len(y_1)):\n",
    "        if(y_1[i] == y_2[i]):\n",
    "            ans += 1\n",
    "    return ans/len(y_1)"
   ]
  },
  {
   "cell_type": "code",
   "execution_count": null,
   "metadata": {},
   "outputs": [],
   "source": [
    "final_matrix = fit(train_data,Y_train)"
   ]
  },
  {
   "cell_type": "code",
   "execution_count": null,
   "metadata": {},
   "outputs": [],
   "source": [
    "final_matrix.keys()"
   ]
  },
  {
   "cell_type": "code",
   "execution_count": null,
   "metadata": {},
   "outputs": [],
   "source": [
    "test_data=datasets.load_files(r\"C:\\Users\\Satyam Garg\\Desktop\\python\\Projects\\Project-Text Classifiaction\\Submission\\mini_newsgroups\")\n",
    "x_test=test_data.data\n",
    "Y_test=test_data.target"
   ]
  },
  {
   "cell_type": "code",
   "execution_count": null,
   "metadata": {},
   "outputs": [],
   "source": [
    "\n",
    "def get_data(x_test_sentences,vocab,indexes):\n",
    "    X_test=[]\n",
    "    for i in range(len(x_test)):\n",
    "        # to remove all the special character\n",
    "        document = re.sub(r'\\W', ' ', str(x_test[i]))\n",
    "\n",
    "        # to convert multiple spaces into single spaces\n",
    "        document = re.sub(r'\\s+', ' ', document, flags=re.I)\n",
    "\n",
    "        # removed prefixed b\n",
    "        document = re.sub(r'^b\\s+', '', document)\n",
    "\n",
    "        # remove integers\n",
    "        document = re.sub(r'\\d+', '', document)\n",
    "\n",
    "        # convert all words into lowerletter\n",
    "        document = document.lower()\n",
    "\n",
    "        X_test.append(document)\n",
    "\n",
    "    a=len(X_test)\n",
    "    b=len(list(vocab.keys()))\n",
    "    test_data=np.zeros((a,b))\n",
    "    i=0\n",
    "    for doc in X_test:\n",
    "            word_list=doc.split()\n",
    "            for word in word_list:\n",
    "                if word in vocab.keys():\n",
    "                            pos_x=i\n",
    "                            pos_y=indexes.index(word)\n",
    "                            test_data[pos_x][pos_y]=test_data[pos_x][pos_y]+1\n",
    "            i=i+1\n",
    "    return test_data\n",
    "\n",
    "test_data = get_data(test_data, vocab,indexes)\n",
    "test_data"
   ]
  },
  {
   "cell_type": "code",
   "execution_count": null,
   "metadata": {},
   "outputs": [],
   "source": [
    "clf = MultinomialNB()\n",
    "clf.fit(train_data, Y_train)\n",
    "\n",
    "Y_pred=clf.predict(test_data)\n",
    "\n",
    "# converting classes from sumbols (0-19 ) to actual class names\n",
    "names_list=data1.target_names\n",
    "print(names_list)\n",
    "\n",
    "# converting Y_test\n",
    "Y_test_class=[]\n",
    "for data in Y_test:\n",
    "        Y_test_class.append(names_list[data])\n",
    "        \n",
    "#converting Y_pred \n",
    "Y_pred_class=[]\n",
    "for data in Y_pred:\n",
    "       Y_pred_class.append(names_list[data])\n",
    "        \n",
    "print(\"score on test data from inbuilt algorithm\",score(Y_pred_class,Y_test_class))\n",
    "print()\n",
    "print(classification_report(Y_test_class,Y_pred_class))\n",
    "print(confusion_matrix(Y_test_class,Y_pred_class))"
   ]
  },
  {
   "cell_type": "code",
   "execution_count": null,
   "metadata": {},
   "outputs": [],
   "source": [
    "y_pred_by_self_implementation = predict(test_data, final_matrix)\n",
    "Y_pred_by_self_implementation = []\n",
    "for data in y_pred_by_self_implementation:\n",
    "       Y_pred_by_self_implementation.append(names_list[data])\n",
    "        \n",
    "print(\"score on test data from scratch\",score(Y_pred_by_self_implementation,Y_test_class))\n",
    "print()\n",
    "print(classification_report(Y_test_class,Y_pred_by_self_implementation))\n",
    "print(confusion_matrix(Y_test_class,Y_pred_by_self_implementation))"
   ]
  }
 ],
 "metadata": {
  "kernelspec": {
   "display_name": "Python 3",
   "language": "python",
   "name": "python3"
  },
  "language_info": {
   "codemirror_mode": {
    "name": "ipython",
    "version": 3
   },
   "file_extension": ".py",
   "mimetype": "text/x-python",
   "name": "python",
   "nbconvert_exporter": "python",
   "pygments_lexer": "ipython3",
   "version": "3.7.6"
  }
 },
 "nbformat": 4,
 "nbformat_minor": 2
}
