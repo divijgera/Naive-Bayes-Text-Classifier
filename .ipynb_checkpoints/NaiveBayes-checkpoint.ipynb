{
 "cells": [
  {
   "cell_type": "code",
   "execution_count": 1,
   "metadata": {},
   "outputs": [],
   "source": [
    "import numpy as np"
   ]
  },
  {
   "cell_type": "code",
   "execution_count": 2,
   "metadata": {},
   "outputs": [],
   "source": [
    "def fit(x,y):\n",
    "    result = {}\n",
    "    result['total_data'] = len(y)\n",
    "    class_values = set(y)\n",
    "    for current_class in class_values:\n",
    "        result[current_class] = {}\n",
    "        x_current = x[y==current_class]\n",
    "        y_current = y[y==current_class]\n",
    "        result[current_class]['total_count'] = len(y_current)\n",
    "        num_features = x.shape[1]\n",
    "        for j in range(1,num_features+1):\n",
    "            result[current_class][j] = {}\n",
    "            all_possible_values = set(x[:,j-1])\n",
    "            for current_value in all_possible_values:\n",
    "                result[current_class][j][current_value] = (x_current[:,j-1]==current_value).sum()\n",
    "    return result"
   ]
  },
  {
   "cell_type": "code",
   "execution_count": 3,
   "metadata": {},
   "outputs": [],
   "source": [
    "def probability(current_class,dictionary,x):\n",
    "    output = np.log(dictionary[current_class]['total_count']) - np.log(dictionary['total_data'])\n",
    "    num_features = len(dictioanry[current_class].keys())-1\n",
    "    for j in range(1,num_features+1):\n",
    "        xj = x[j-1]\n",
    "        num = dictionary[current_class][j][xj] + 1\n",
    "        denom = dictionary[current_class]['total_count'] + len(dictionary[current_class][j].keys())\n",
    "        prob = np.log(num) - np.log(denom)\n",
    "        output += prob\n",
    "    return output"
   ]
  },
  {
   "cell_type": "code",
   "execution_count": 1,
   "metadata": {},
   "outputs": [],
   "source": [
    "def predictSinglePoint(dictionary,x):\n",
    "    classes = dictionary.keys()\n",
    "    best_class = -1\n",
    "    best_p = -1000\n",
    "    first_run = True\n",
    "    for current_class in classes:\n",
    "        if current_class == 'total_data':\n",
    "            continue\n",
    "        p_current_class = probability(current_class,dictionary,x)\n",
    "        if first_run | p_current_class > best_p :\n",
    "            best_p = p_current_class\n",
    "            best_class = current_class\n",
    "            first_run = False\n",
    "    return best_class"
   ]
  },
  {
   "cell_type": "code",
   "execution_count": 6,
   "metadata": {},
   "outputs": [],
   "source": [
    "def predict(dictionary, X_test):\n",
    "    y_pred = []\n",
    "    for x in X_test:\n",
    "        x_class = predictSinglePoint(dictionary,x)\n",
    "        y_pred.append(x_class)\n",
    "    return y_pred"
   ]
  },
  {
   "cell_type": "code",
   "execution_count": null,
   "metadata": {},
   "outputs": [],
   "source": []
  }
 ],
 "metadata": {
  "kernelspec": {
   "display_name": "Python 3",
   "language": "python",
   "name": "python3"
  },
  "language_info": {
   "codemirror_mode": {
    "name": "ipython",
    "version": 3
   },
   "file_extension": ".py",
   "mimetype": "text/x-python",
   "name": "python",
   "nbconvert_exporter": "python",
   "pygments_lexer": "ipython3",
   "version": "3.7.6"
  }
 },
 "nbformat": 4,
 "nbformat_minor": 4
}
