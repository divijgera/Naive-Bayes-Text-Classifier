{
 "cells": [
  {
   "cell_type": "code",
   "execution_count": 1,
   "metadata": {},
   "outputs": [],
   "source": [
    "import numpy as np\n",
    "import math\n",
    "import pandas as pd\n",
    "import re\n",
    "import matplotlib.pyplot as plt\n",
    "import nltk\n",
    "import string\n",
    "from nltk.corpus import stopwords \n",
    "from nltk.tokenize import word_tokenize \n",
    "from sklearn.naive_bayes import MultinomialNB\n",
    "from sklearn.metrics import classification_report \n",
    "from sklearn.metrics import confusion_matrix\n",
    "from sklearn import datasets"
   ]
  },
  {
   "cell_type": "code",
   "execution_count": 2,
   "metadata": {},
   "outputs": [],
   "source": [
    "text_data = datasets.load_files(r\"20_newsgroups\")\n",
    "x = text_data.data\n",
    "y = text_data.target"
   ]
  },
  {
   "cell_type": "code",
   "execution_count": 3,
   "metadata": {},
   "outputs": [
    {
     "name": "stdout",
     "output_type": "stream",
     "text": [
      "<class 'list'> <class 'numpy.ndarray'>\n"
     ]
    }
   ],
   "source": [
    "print(type(x),type(y))"
   ]
  },
  {
   "cell_type": "code",
   "execution_count": 4,
   "metadata": {},
   "outputs": [
    {
     "name": "stdout",
     "output_type": "stream",
     "text": [
      "19997 19997\n"
     ]
    }
   ],
   "source": [
    "print(len(x),len(y))"
   ]
  },
  {
   "cell_type": "code",
   "execution_count": 5,
   "metadata": {},
   "outputs": [],
   "source": [
    "# Cleaning the training data using regex library of python\n",
    "X = []\n",
    "\n",
    "for i in range(len(x)):\n",
    "    # Removing all the non-word characters ie not present in {a-z, A-Z, 0-9, _}\n",
    "    text = re.sub(r'\\W',' ',str(x[i]))\n",
    "    \n",
    "    # Converting multiple spaces to single blank space\n",
    "    text = re.sub(r'\\s+',' ',text, flags=re.I)\n",
    "    \n",
    "    # Removing the prefixed b from the text\n",
    "    text = re.sub(r'^b\\s+','',text)\n",
    "    \n",
    "    # Removing all the numbers\n",
    "    text = re.sub(r'\\d+','',text)\n",
    "    \n",
    "    # Converting to lower case\n",
    "    text = text.lower()\n",
    "    \n",
    "    X.append(text)"
   ]
  },
  {
   "cell_type": "code",
   "execution_count": 6,
   "metadata": {},
   "outputs": [
    {
     "name": "stdout",
     "output_type": "stream",
     "text": [
      "<class 'list'> 19997\n"
     ]
    }
   ],
   "source": [
    "print(type(X),len(X))"
   ]
  },
  {
   "cell_type": "code",
   "execution_count": 7,
   "metadata": {},
   "outputs": [
    {
     "name": "stderr",
     "output_type": "stream",
     "text": [
      "[nltk_data] Downloading package stopwords to /Users/divij/nltk_data...\n",
      "[nltk_data]   Package stopwords is already up-to-date!\n"
     ]
    },
    {
     "data": {
      "text/plain": [
       "True"
      ]
     },
     "execution_count": 7,
     "metadata": {},
     "output_type": "execute_result"
    }
   ],
   "source": [
    "# Download the Stop Words\n",
    "nltk.download(\"stopwords\")"
   ]
  },
  {
   "cell_type": "code",
   "execution_count": 8,
   "metadata": {},
   "outputs": [
    {
     "name": "stdout",
     "output_type": "stream",
     "text": [
      "179\n",
      "['i', 'me', 'my', 'myself', 'we', 'our', 'ours', 'ourselves', 'you', \"you're\", \"you've\", \"you'll\", \"you'd\", 'your', 'yours', 'yourself', 'yourselves', 'he', 'him', 'his', 'himself', 'she', \"she's\", 'her', 'hers', 'herself', 'it', \"it's\", 'its', 'itself', 'they', 'them', 'their', 'theirs', 'themselves', 'what', 'which', 'who', 'whom', 'this', 'that', \"that'll\", 'these', 'those', 'am', 'is', 'are', 'was', 'were', 'be', 'been', 'being', 'have', 'has', 'had', 'having', 'do', 'does', 'did', 'doing', 'a', 'an', 'the', 'and', 'but', 'if', 'or', 'because', 'as', 'until', 'while', 'of', 'at', 'by', 'for', 'with', 'about', 'against', 'between', 'into', 'through', 'during', 'before', 'after', 'above', 'below', 'to', 'from', 'up', 'down', 'in', 'out', 'on', 'off', 'over', 'under', 'again', 'further', 'then', 'once', 'here', 'there', 'when', 'where', 'why', 'how', 'all', 'any', 'both', 'each', 'few', 'more', 'most', 'other', 'some', 'such', 'no', 'nor', 'not', 'only', 'own', 'same', 'so', 'than', 'too', 'very', 's', 't', 'can', 'will', 'just', 'don', \"don't\", 'should', \"should've\", 'now', 'd', 'll', 'm', 'o', 're', 've', 'y', 'ain', 'aren', \"aren't\", 'couldn', \"couldn't\", 'didn', \"didn't\", 'doesn', \"doesn't\", 'hadn', \"hadn't\", 'hasn', \"hasn't\", 'haven', \"haven't\", 'isn', \"isn't\", 'ma', 'mightn', \"mightn't\", 'mustn', \"mustn't\", 'needn', \"needn't\", 'shan', \"shan't\", 'shouldn', \"shouldn't\", 'wasn', \"wasn't\", 'weren', \"weren't\", 'won', \"won't\", 'wouldn', \"wouldn't\"]\n"
     ]
    }
   ],
   "source": [
    "stop_words = stopwords.words('english')\n",
    "print(len(stop_words))\n",
    "print(stop_words)"
   ]
  },
  {
   "cell_type": "code",
   "execution_count": 9,
   "metadata": {},
   "outputs": [],
   "source": [
    "# Building the initial dictionary of all the unique words and their frequencies\n",
    "dictionary = {}\n",
    "\n",
    "for i in X:\n",
    "    for word in i.split():\n",
    "        if word not in stop_words:\n",
    "            dictionary[word] = dictionary.get(word,0) + 1"
   ]
  },
  {
   "cell_type": "code",
   "execution_count": 10,
   "metadata": {},
   "outputs": [
    {
     "name": "stdout",
     "output_type": "stream",
     "text": [
      "164593\n"
     ]
    }
   ],
   "source": [
    "print(len(dictionary))"
   ]
  },
  {
   "cell_type": "code",
   "execution_count": 34,
   "metadata": {},
   "outputs": [
    {
     "data": {
      "image/png": "[encoded data removed]",
      "text/plain": [
       "<Figure size 432x288 with 1 Axes>"
      ]
     },
     "metadata": {
      "needs_background": "light"
     },
     "output_type": "display_data"
    }
   ],
   "source": [
    "# Plotting a line graph for the number of words vs the frequencies\n",
    "temp = {}\n",
    "for i in dictionary:\n",
    "    temp[dictionary[i]] = temp.get(dictionary[i],0) + 1\n",
    "\n",
    "x_axis = []\n",
    "y_axis = []\n",
    "for i in sorted(temp.keys()):\n",
    "    y_axis.append(i)\n",
    "    x_axis.append(temp[i])\n",
    "plt.plot(x_axis,y_axis)\n",
    "plt.xlabel(\"Number of words\")\n",
    "plt.ylabel(\"Frequency\")\n",
    "plt.title('Number of words vs their frequencies')\n",
    "plt.axis([0,10000,1,150])\n",
    "plt.grid()\n",
    "plt.show()"
   ]
  },
  {
   "cell_type": "code",
   "execution_count": 13,
   "metadata": {},
   "outputs": [
    {
     "name": "stdout",
     "output_type": "stream",
     "text": [
      "5078\n"
     ]
    }
   ],
   "source": [
    "# Selecting a cutoff freq ie discarding the words having a freq below the cutoff\n",
    "cutoff = 120\n",
    "final_dict = {}\n",
    "for i in dictionary:\n",
    "    if dictionary[i] >= cutoff:\n",
    "        final_dict[i] = dictionary[i]\n",
    "print(len(final_dict))"
   ]
  },
  {
   "cell_type": "code",
   "execution_count": 25,
   "metadata": {},
   "outputs": [
    {
     "name": "stdout",
     "output_type": "stream",
     "text": [
      "(19997, 5078)\n"
     ]
    }
   ],
   "source": [
    "# Building a 2D np array of the words and their frequencies\n",
    "words = list(final_dict.keys())\n",
    "X_array = np.zeros((len(X),len(final_dict)))\n",
    "\n",
    "for i in range(len(X)):\n",
    "    curr_doc = X[i].split()\n",
    "    for word in curr_doc:\n",
    "        if word in words:\n",
    "            j = words.index(word)\n",
    "            X_array[i][j] += 1\n",
    "print(X_array.shape)"
   ]
  },
  {
   "cell_type": "code",
   "execution_count": 43,
   "metadata": {},
   "outputs": [
    {
     "data": {
      "text/plain": [
       "array([[1., 1., 2., ..., 0., 0., 0.],\n",
       "       [0., 2., 3., ..., 0., 0., 0.],\n",
       "       [1., 1., 1., ..., 0., 0., 0.],\n",
       "       ...,\n",
       "       [0., 1., 1., ..., 0., 0., 0.],\n",
       "       [0., 1., 1., ..., 0., 0., 0.],\n",
       "       [0., 1., 1., ..., 0., 0., 0.]])"
      ]
     },
     "execution_count": 43,
     "metadata": {},
     "output_type": "execute_result"
    }
   ],
   "source": [
    "X_train = X_array\n",
    "Y_train = y\n",
    "X_train"
   ]
  },
  {
   "cell_type": "code",
   "execution_count": 89,
   "metadata": {},
   "outputs": [],
   "source": [
    "# Defining a fit function which makes a result dictionary containing frequencies of words for each class present in Y\n",
    "def fit(X_train,Y_train):\n",
    "    result = {}\n",
    "    classes = set(Y_train)\n",
    "    result['total_rows'] = len(Y_train)\n",
    "    for curr_class in classes:\n",
    "        result[curr_class] = {}\n",
    "        class_total = 0\n",
    "        X_class = X_train[Y_train == curr_class]\n",
    "        Y_class = Y_train[Y_train == curr_class]\n",
    "        num_features = X_train.shape[1]\n",
    "        result[curr_class]['total_class_rows'] = len(Y_class)\n",
    "        for j in range(num_features):\n",
    "            result[curr_class][j] = X_class[:,j].sum()\n",
    "            class_total += result[curr_class][j]\n",
    "        result[curr_class]['total_class_freq'] = class_total\n",
    "    return result\n",
    "    \n",
    "# This function calculates the probability of the given class based on the value of a single datapoint.    \n",
    "def probability(curr_class,result,row):\n",
    "    output = np.log(result[curr_class]['total_class_rows']) - np.log(result['total_rows'])\n",
    "    num_features = len(result[curr_class].keys())-2\n",
    "    for j in range(len(row)):\n",
    "        num = result[curr_class][j]+1\n",
    "        denom = result[curr_class]['total_class_freq'] + len(row)\n",
    "        prob = np.log(num) - np.log(denom)\n",
    "        output += row[j]*prob\n",
    "    return output\n",
    " \n",
    "# This function predicts the best class for a single datapoint. The probabilities of each class are found using the \n",
    "# above function and the class having the maximum probability is returned as the best class.\n",
    "def predictSinglePoint(result, row):\n",
    "    classes = result.keys()\n",
    "    best_class = -1\n",
    "    best_p = -1000\n",
    "    first_run = True\n",
    "    for curr_class in classes:\n",
    "        if curr_class == 'total_data_freq' or curr_class == 'total_rows':\n",
    "            continue\n",
    "        p_current_class = probability(curr_class,result,row)\n",
    "        if first_run or p_current_class > best_p :\n",
    "            best_p = p_current_class\n",
    "            best_class = curr_class\n",
    "            first_run = False\n",
    "    return best_class\n",
    "\n",
    "# A function defined to predict the values of y given the x_test values. The best class for each datapoint is received \n",
    "# from the above function and the classes for each datapoint is added to the y_pred list.\n",
    "def predict(result, X_test):\n",
    "    y_pred = []\n",
    "    for row in X_test:\n",
    "        x_class = predictSinglePoint(result,row)\n",
    "        y_pred.append(x_class)\n",
    "    return y_pred        "
   ]
  },
  {
   "cell_type": "code",
   "execution_count": 90,
   "metadata": {},
   "outputs": [],
   "source": [
    "trained_dict = fit(X_train, Y_train)"
   ]
  },
  {
   "cell_type": "code",
   "execution_count": 52,
   "metadata": {},
   "outputs": [],
   "source": [
    "# loading testing data\n",
    "testing_data = datasets.load_files(r\"mini_newsgroups\")\n",
    "x_test = testing_data.data\n",
    "y_test = testing_data.target"
   ]
  },
  {
   "cell_type": "code",
   "execution_count": 53,
   "metadata": {},
   "outputs": [],
   "source": [
    "# Cleaning the testing data using the regex library\n",
    "X_test = []\n",
    "\n",
    "for i in range(len(x_test)):\n",
    "    # Removing all the non-word characters ie not present in {a-z, A-Z, 0-9, _}\n",
    "    text = re.sub(r'\\W',' ',str(x_test[i]))\n",
    "    \n",
    "    # Converting multiple spaces to single blank space\n",
    "    text = re.sub(r'\\s+',' ',text, flags=re.I)\n",
    "    \n",
    "    # Removing the prefixed b from the text\n",
    "    text = re.sub(r'^b\\s+','',text)\n",
    "    \n",
    "    # Removing all the numbers\n",
    "    text = re.sub(r'\\d+','',text)\n",
    "    \n",
    "    # Converting to lower case\n",
    "    text = text.lower()\n",
    "    \n",
    "    X_test.append(text)"
   ]
  },
  {
   "cell_type": "code",
   "execution_count": 56,
   "metadata": {},
   "outputs": [
    {
     "name": "stdout",
     "output_type": "stream",
     "text": [
      "(2000, 5078)\n"
     ]
    }
   ],
   "source": [
    "# Creating a 2D numpy array for the testing data\n",
    "\n",
    "X_test_array = np.zeros((len(X_test),len(final_dict)))\n",
    "\n",
    "for i in range(len(X_test)):\n",
    "    curr_doc = X_test[i].split()\n",
    "    for word in curr_doc:\n",
    "        if word in words:\n",
    "            j = words.index(word)\n",
    "            X_test_array[i][j] += 1\n",
    "print(X_test_array.shape)"
   ]
  },
  {
   "cell_type": "code",
   "execution_count": 61,
   "metadata": {},
   "outputs": [
    {
     "name": "stdout",
     "output_type": "stream",
     "text": [
      "Using Sklearn's inbuilt Multinomial Naive Bayes\n",
      "\n",
      "                          precision    recall  f1-score   support\n",
      "\n",
      "             alt.atheism       0.82      0.87      0.84       100\n",
      "           comp.graphics       0.77      0.87      0.82       100\n",
      " comp.os.ms-windows.misc       0.89      0.08      0.15       100\n",
      "comp.sys.ibm.pc.hardware       0.53      0.90      0.66       100\n",
      "   comp.sys.mac.hardware       0.86      0.92      0.89       100\n",
      "          comp.windows.x       0.86      0.82      0.84       100\n",
      "            misc.forsale       0.84      0.98      0.91       100\n",
      "               rec.autos       0.98      0.95      0.96       100\n",
      "         rec.motorcycles       0.96      0.97      0.97       100\n",
      "      rec.sport.baseball       0.99      0.97      0.98       100\n",
      "        rec.sport.hockey       0.98      0.94      0.96       100\n",
      "               sci.crypt       0.98      0.96      0.97       100\n",
      "         sci.electronics       0.89      0.93      0.91       100\n",
      "                 sci.med       0.97      0.94      0.95       100\n",
      "               sci.space       0.97      0.95      0.96       100\n",
      "  soc.religion.christian       0.97      0.99      0.98       100\n",
      "      talk.politics.guns       0.85      0.93      0.89       100\n",
      "   talk.politics.mideast       0.97      0.93      0.95       100\n",
      "      talk.politics.misc       0.83      0.74      0.78       100\n",
      "      talk.religion.misc       0.75      0.73      0.74       100\n",
      "\n",
      "                accuracy                           0.87      2000\n",
      "               macro avg       0.88      0.87      0.86      2000\n",
      "            weighted avg       0.88      0.87      0.86      2000\n",
      "\n",
      "[[87  0  0  0  0  0  0  0  0  0  0  0  0  0  0  1  0  0  2 10]\n",
      " [ 0 87  0  3  2  3  2  0  0  0  0  0  3  0  0  0  0  0  0  0]\n",
      " [ 0 14  8 64  1  8  3  0  0  0  0  0  2  0  0  0  0  0  0  0]\n",
      " [ 1  1  0 90  5  0  3  0  0  0  0  0  0  0  0  0  0  0  0  0]\n",
      " [ 0  0  1  6 92  0  1  0  0  0  0  0  0  0  0  0  0  0  0  0]\n",
      " [ 0  6  0  5  3 82  1  0  0  0  0  1  0  1  1  0  0  0  0  0]\n",
      " [ 0  0  0  0  0  0 98  1  0  0  0  0  1  0  0  0  0  0  0  0]\n",
      " [ 0  0  0  0  1  0  1 95  0  0  0  0  3  0  0  0  0  0  0  0]\n",
      " [ 0  0  0  0  0  0  2  1 97  0  0  0  0  0  0  0  0  0  0  0]\n",
      " [ 0  0  0  0  0  0  1  0  0 97  2  0  0  0  0  0  0  0  0  0]\n",
      " [ 0  0  0  0  0  0  1  0  1  1 94  0  0  1  1  0  0  0  1  0]\n",
      " [ 0  1  0  0  1  0  1  0  0  0  0 96  0  1  0  0  0  0  0  0]\n",
      " [ 0  1  0  2  1  0  2  0  0  0  0  0 93  0  1  0  0  0  0  0]\n",
      " [ 0  1  0  0  0  0  0  0  2  0  0  0  2 94  0  0  0  0  1  0]\n",
      " [ 0  2  0  0  1  2  0  0  0  0  0  0  0  0 95  0  0  0  0  0]\n",
      " [ 0  0  0  0  0  0  0  0  0  0  0  0  1  0  0 99  0  0  0  0]\n",
      " [ 0  0  0  0  0  0  0  0  1  0  0  1  0  0  0  0 93  0  3  2]\n",
      " [ 0  0  0  1  0  0  0  0  0  0  0  0  0  0  0  0  1 93  5  0]\n",
      " [ 0  0  0  0  0  0  0  0  0  0  0  0  0  0  0  0 11  3 74 12]\n",
      " [18  0  0  0  0  0  0  0  0  0  0  0  0  0  0  2  4  0  3 73]]\n"
     ]
    }
   ],
   "source": [
    "# Using the inbuilt Multinomial NB\n",
    "cif = MultinomialNB()\n",
    "cif.fit(X_train,Y_train)\n",
    "y_pred_inbuilt = cif.predict(X_test_array)\n",
    "\n",
    "# Since y_pred has predictions in the form of numbers, they need to be converted to names\n",
    "class_names = text_data.target_names\n",
    "\n",
    "y_test_named = []\n",
    "for i in y_test:\n",
    "    y_test_named.append(class_names[i])\n",
    "    \n",
    "y_pred_named_inbuilt = []\n",
    "for i in y_pred_inbuilt:\n",
    "    y_pred_named_inbuilt.append(class_names[i])\n",
    "\n",
    "print(\"Using Sklearn's inbuilt Multinomial Naive Bayes\")\n",
    "print()\n",
    "print(classification_report(y_test_named,y_pred_named_inbuilt))\n",
    "print(confusion_matrix(y_test_named,y_pred_named_inbuilt))"
   ]
  },
  {
   "cell_type": "code",
   "execution_count": 92,
   "metadata": {},
   "outputs": [
    {
     "name": "stdout",
     "output_type": "stream",
     "text": [
      "Using Multinomial Naive Bayes written from scratch\n",
      "\n",
      "                          precision    recall  f1-score   support\n",
      "\n",
      "             alt.atheism       0.82      0.87      0.84       100\n",
      "           comp.graphics       0.77      0.87      0.82       100\n",
      " comp.os.ms-windows.misc       0.89      0.08      0.15       100\n",
      "comp.sys.ibm.pc.hardware       0.53      0.90      0.66       100\n",
      "   comp.sys.mac.hardware       0.86      0.92      0.89       100\n",
      "          comp.windows.x       0.86      0.82      0.84       100\n",
      "            misc.forsale       0.84      0.98      0.91       100\n",
      "               rec.autos       0.98      0.95      0.96       100\n",
      "         rec.motorcycles       0.96      0.97      0.97       100\n",
      "      rec.sport.baseball       0.99      0.97      0.98       100\n",
      "        rec.sport.hockey       0.98      0.94      0.96       100\n",
      "               sci.crypt       0.98      0.96      0.97       100\n",
      "         sci.electronics       0.89      0.93      0.91       100\n",
      "                 sci.med       0.97      0.94      0.95       100\n",
      "               sci.space       0.97      0.95      0.96       100\n",
      "  soc.religion.christian       0.97      0.99      0.98       100\n",
      "      talk.politics.guns       0.85      0.93      0.89       100\n",
      "   talk.politics.mideast       0.97      0.93      0.95       100\n",
      "      talk.politics.misc       0.83      0.74      0.78       100\n",
      "      talk.religion.misc       0.75      0.73      0.74       100\n",
      "\n",
      "                accuracy                           0.87      2000\n",
      "               macro avg       0.88      0.87      0.86      2000\n",
      "            weighted avg       0.88      0.87      0.86      2000\n",
      "\n",
      "[[87  0  0  0  0  0  0  0  0  0  0  0  0  0  0  1  0  0  2 10]\n",
      " [ 0 87  0  3  2  3  2  0  0  0  0  0  3  0  0  0  0  0  0  0]\n",
      " [ 0 14  8 64  1  8  3  0  0  0  0  0  2  0  0  0  0  0  0  0]\n",
      " [ 1  1  0 90  5  0  3  0  0  0  0  0  0  0  0  0  0  0  0  0]\n",
      " [ 0  0  1  6 92  0  1  0  0  0  0  0  0  0  0  0  0  0  0  0]\n",
      " [ 0  6  0  5  3 82  1  0  0  0  0  1  0  1  1  0  0  0  0  0]\n",
      " [ 0  0  0  0  0  0 98  1  0  0  0  0  1  0  0  0  0  0  0  0]\n",
      " [ 0  0  0  0  1  0  1 95  0  0  0  0  3  0  0  0  0  0  0  0]\n",
      " [ 0  0  0  0  0  0  2  1 97  0  0  0  0  0  0  0  0  0  0  0]\n",
      " [ 0  0  0  0  0  0  1  0  0 97  2  0  0  0  0  0  0  0  0  0]\n",
      " [ 0  0  0  0  0  0  1  0  1  1 94  0  0  1  1  0  0  0  1  0]\n",
      " [ 0  1  0  0  1  0  1  0  0  0  0 96  0  1  0  0  0  0  0  0]\n",
      " [ 0  1  0  2  1  0  2  0  0  0  0  0 93  0  1  0  0  0  0  0]\n",
      " [ 0  1  0  0  0  0  0  0  2  0  0  0  2 94  0  0  0  0  1  0]\n",
      " [ 0  2  0  0  1  2  0  0  0  0  0  0  0  0 95  0  0  0  0  0]\n",
      " [ 0  0  0  0  0  0  0  0  0  0  0  0  1  0  0 99  0  0  0  0]\n",
      " [ 0  0  0  0  0  0  0  0  1  0  0  1  0  0  0  0 93  0  3  2]\n",
      " [ 0  0  0  1  0  0  0  0  0  0  0  0  0  0  0  0  1 93  5  0]\n",
      " [ 0  0  0  0  0  0  0  0  0  0  0  0  0  0  0  0 11  3 74 12]\n",
      " [18  0  0  0  0  0  0  0  0  0  0  0  0  0  0  2  4  0  3 73]]\n"
     ]
    }
   ],
   "source": [
    "# Using the MultiNomial Naive Bayes written from scratch\n",
    "y_pred_scratch = predict(trained_dict,X_test_array)\n",
    "\n",
    "# Creating named y_pred\n",
    "y_pred_named_scratch = []\n",
    "for i in y_pred_scratch:\n",
    "    y_pred_named_scratch.append(class_names[i])\n",
    "\n",
    "print(\"Using Multinomial Naive Bayes written from scratch\")\n",
    "print()\n",
    "print(classification_report(y_test_named,y_pred_named_scratch))\n",
    "print(confusion_matrix(y_test_named,y_pred_named_scratch))"
   ]
  },
  {
   "cell_type": "code",
   "execution_count": 93,
   "metadata": {},
   "outputs": [
    {
     "name": "stdout",
     "output_type": "stream",
     "text": [
      "The difference between the results of the inbuilt function and the function built from scratch are in: 0 values\n",
      "Since there is no difference in any of the predicted values for the testing data, it can be concluded that the Multinomial NB built from scratch is as good as the inbuilt one.\n"
     ]
    }
   ],
   "source": [
    "# In order to check how the results provided by my function compare to those provided by the inbuilt function\n",
    "# I am running a loop over both y_pred and printing the values if the result differs\n",
    "\n",
    "count = 0\n",
    "for i in range(len(y_pred_named_inbuilt)):\n",
    "    if y_pred_named_inbuilt[i] != y_pred_named_scratch[i]:\n",
    "        count += 1\n",
    "print(\"The difference between the results of the inbuilt function and the function built from scratch are in:\",count\n",
    "     ,\"values\")\n",
    "if count == 0:\n",
    "    print(\"Since there is no difference in any of the predicted values for the testing data, it can be concluded that the Multinomial NB built from scratch is as good as the inbuilt one.\")"
   ]
  }
 ],
 "metadata": {
  "kernelspec": {
   "display_name": "Python 3",
   "language": "python",
   "name": "python3"
  },
  "language_info": {
   "codemirror_mode": {
    "name": "ipython",
    "version": 3
   },
   "file_extension": ".py",
   "mimetype": "text/x-python",
   "name": "python",
   "nbconvert_exporter": "python",
   "pygments_lexer": "ipython3",
   "version": "3.7.6"
  }
 },
 "nbformat": 4,
 "nbformat_minor": 4
}
